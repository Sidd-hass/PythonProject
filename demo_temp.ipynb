{
 "cells": [
  {
   "cell_type": "code",
   "execution_count": 57,
   "id": "4ad6baf3",
   "metadata": {},
   "outputs": [],
   "source": [
    "import requests\n",
    "from tkinter import *\n",
    "from tkinter import ttk\n",
    "\n",
    "def data_get():\n",
    "    city = city_name.get()\n",
    "    url = f\"https://api.openweathermap.org/data/2.5/weather?q={city}&appid=f3b61563fd6a09257ac2217f4b85f765\"\n",
    "    data = requests.get(url).json()\n",
    "    w_label1.config(text=data[\"weather\"][0][\"main\"])\n",
    "    wb_label1.config(text=data[\"weather\"][0][\"description\"])\n",
    "    temp_label1.config(text=str(int(data[\"main\"][\"temp\"]-273.15)))\n",
    "    per_label1.config(text=data[\"main\"][\"pressure\"])\n",
    "\n",
    "win = Tk()\n",
    "win.title(\"Tech Digitem\")\n",
    "win.config(bg=\"blue\")\n",
    "win.geometry(\"500x570\")\n",
    "\n",
    "name_label = Label(win, text=\"Tech Digitem Weather App\", font=(\"Time New Roman\", 25, \"bold\"))\n",
    "name_label.place(x=25, y=50, height=50, width=450)\n",
    "\n",
    "city_name = StringVar()\n",
    "list_name = [\"Andhra Pradesh\", \"Arunachal Pradesh \", \"Assam\", \"Bihar\", \"Chhattisgarh\", \"Goa\", \"Gujarat\", \"Haryana\", \"Himachal Pradesh\", \"Jammu and Kashmir\", \"Jharkhand\", \"Karnataka\", \"Kerala\", \"Madhya Pradesh\", \"Maharashtra\", \"Manipur\", \"Meghalaya\", \"Mizoram\", \"Nagaland\", \"Odisha\", \"Punjab\", \"Rajasthan\", \"Sikkim\", \"Tamil Nadu\", \"Telangana\", \"Tripura\", \"Uttar Pradesh\", \"Uttarakhand\", \"West Bengal\", \"Andaman and Nicobar Islands\", \"Chandigarh\", \"Dadra and Nagar Haveli\", \"Daman and Diu\", \"Lakshadweep\", \"National Capital Territory of Delhi\", \"Puducherry\"]\n",
    "com = ttk.Combobox(win, text=\"Tech Digitem Weather App\", values=list_name, font=(\"Time New Roman\", 20, \"bold\"), textvariable=city_name)\n",
    "com.place(x=25, y=120, height=50, width=450)\n",
    "\n",
    "w_label = Label(win, text=\"Weather Climate\", font=(\"Time New Roman\", 20,))\n",
    "w_label.place(x=25, y=260, height=50, width=210)\n",
    "w_label1 = Label(win, text=\"\", font=(\"Time New Roman\", 20,))\n",
    "w_label1.place(x=250, y=260, height=50, width=210)\n",
    "\n",
    "wb_label = Label(win, text=\"Weather Description\", font=(\"Time New Roman\", 17,))\n",
    "wb_label.place(x=25, y=330, height=50, width=210)\n",
    "wb_label1 = Label(win, text=\"\", font=(\"Time New Roman\", 17,))\n",
    "wb_label1.place(x=250, y=330, height=50, width=210)\n",
    "\n",
    "temp_label = Label(win, text=\"Temperature\", font=(\"Time New Roman\", 20,))\n",
    "temp_label.place(x=25, y=400, height=50, width=210)\n",
    "temp_label1 = Label(win, text=\"\", font=(\"Time New Roman\", 20,))\n",
    "temp_label1.place(x=250, y=400, height=50, width=210)\n",
    "\n",
    "per_label = Label(win,text=\"Pressure\", font=(\"Time New Roman\",20,))\n",
    "per_label.place(x=25,y=470,height=50,width=210)\n",
    "per_label1 = Label(win,text=\"\", font=(\"Time New Roman\",20,))\n",
    "per_label1.place(x=250,y=470,height=50,width=210)\n",
    "\n",
    "\n",
    "done_button = Button(win,text=\"Done\", font=(\"Time New Roman\",20,\"bold\"),command=data_get)\n",
    "done_button.place(y=190,height=50,width=100,x=200)\n",
    "\n",
    "\n",
    "win.mainloop() "
   ]
  },
  {
   "cell_type": "code",
   "execution_count": null,
   "id": "2b73bcb4",
   "metadata": {},
   "outputs": [],
   "source": []
  }
 ],
 "metadata": {
  "kernelspec": {
   "display_name": "Python 3 (ipykernel)",
   "language": "python",
   "name": "python3"
  },
  "language_info": {
   "codemirror_mode": {
    "name": "ipython",
    "version": 3
   },
   "file_extension": ".py",
   "mimetype": "text/x-python",
   "name": "python",
   "nbconvert_exporter": "python",
   "pygments_lexer": "ipython3",
   "version": "3.11.2"
  }
 },
 "nbformat": 4,
 "nbformat_minor": 5
}
